{
 "cells": [
  {
   "cell_type": "code",
   "execution_count": 1,
   "metadata": {
    "ExecuteTime": {
     "end_time": "2019-10-30T13:55:33.354792Z",
     "start_time": "2019-10-30T13:55:33.352502Z"
    }
   },
   "outputs": [],
   "source": [
    "import pandas as pd\n",
    "import matplotlib.pyplot as plt"
   ]
  },
  {
   "cell_type": "code",
   "execution_count": 2,
   "metadata": {
    "ExecuteTime": {
     "end_time": "2019-10-30T13:55:33.557397Z",
     "start_time": "2019-10-30T13:55:33.356016Z"
    }
   },
   "outputs": [
    {
     "data": {
      "text/plain": [
       "method\n",
       "GAN             688.34\n",
       "MusicVAE0.1   3,730.23\n",
       "MusicVAE0.3   3,797.01\n",
       "MusicVAE0.6   3,801.19\n",
       "Name: time, dtype: float64"
      ]
     },
     "execution_count": 2,
     "metadata": {},
     "output_type": "execute_result"
    }
   ],
   "source": [
    "df = pd.read_json('improvisations.json', orient='records')\n",
    "df.groupby(df.method).time.mean()"
   ]
  },
  {
   "cell_type": "code",
   "execution_count": 3,
   "metadata": {
    "ExecuteTime": {
     "end_time": "2019-10-30T13:55:45.256601Z",
     "start_time": "2019-10-30T13:55:33.560802Z"
    }
   },
   "outputs": [],
   "source": [
    "def make_pianoroll(frame, columns):\n",
    "    def expand(row):\n",
    "        melodies = []\n",
    "        for c in columns:\n",
    "            melody = pd.DataFrame(row[c])\n",
    "            melody.duration = np.round(melody.duration / 6).astype(int)\n",
    "            melody.start    = np.round(melody.start / 6).astype(int)\n",
    "            melody['end'] = melody.start + melody.duration\n",
    "            melodies.append(melody)\n",
    "        \n",
    "        maxduration = np.max([m.end.max() for m in melodies])\n",
    "        \n",
    "        roll = np.zeros([len(melodies), maxduration, 128])\n",
    "        for i, melody in enumerate(melodies):\n",
    "            for _, m in melody.iterrows():\n",
    "                roll[i, m.start:m.end, m.note] = 1\n",
    "        return roll\n",
    "    \n",
    "    frame['pianorolls'] = frame.apply(expand, axis=1)\n",
    "        \n",
    "make_pianoroll(df, ['original', 'improvised'])"
   ]
  },
  {
   "cell_type": "code",
   "execution_count": 35,
   "metadata": {
    "ExecuteTime": {
     "end_time": "2019-10-30T14:20:46.954098Z",
     "start_time": "2019-10-30T14:18:54.856826Z"
    }
   },
   "outputs": [
    {
     "data": {
      "application/vnd.jupyter.widget-view+json": {
       "model_id": "d2aaa05c78cf4ff1b291bc8148ae32ab",
       "version_major": 2,
       "version_minor": 0
      },
      "text/plain": [
       "HBox(children=(IntProgress(value=0, max=560), HTML(value='')))"
      ]
     },
     "metadata": {},
     "output_type": "display_data"
    }
   ],
   "source": [
    "from functools import lru_cache\n",
    "\n",
    "@lru_cache(maxsize=1000000)\n",
    "def ld(s, t):\n",
    "    if not s: return len(t)\n",
    "    if not t: return len(s)\n",
    "    if s[0] == t[0]: return ld(s[1:], t[1:])\n",
    "    \n",
    "    paths = []\n",
    "    \n",
    "    paths.append(1 + ld(s[1:], t[1:])) # Substituting note\n",
    "    paths.append(1 + ld(s, t[1:])) # Dropping first left\n",
    "    paths.append(1 + ld(s[1:], t)) # Dropping first right\n",
    "    \n",
    "    # Consolidating...\n",
    "    if len(s) > 1 and s[0][1] == s[1][1]:\n",
    "        s_consolidated = tuple([(s[0][0], s[0][1] + s[1][1]), *s[2:]])\n",
    "        paths.append(1 + ld(s_consolidated, t))\n",
    "        \n",
    "    if len(t) > 1 and t[0][1] == t[1][1]:\n",
    "        t_consolidated = tuple([(t[0][0], t[0][1] + t[1][1]), *t[2:]])\n",
    "        paths.append(1 + ld(s, t_consolidated))\n",
    "    \n",
    "    return min(*paths)\n",
    "\n",
    "def tokenize(note):\n",
    "    return (note['note'], note['duration'])\n",
    "\n",
    "def mongeau_sankoff(row):\n",
    "    left  = tuple(tokenize(t) for t in row['original'])\n",
    "    right = tuple(tokenize(t) for t in row['improvised'])\n",
    "    ld.cache_clear()\n",
    "    return ld(left, right)\n",
    "\n",
    "distances = []\n",
    "for _, row in tqdm(df.iterrows(), total=len(df)):\n",
    "    distances.append(mongeau_sankoff(row))\n",
    "df['mongeau_sankoff'] = distances"
   ]
  },
  {
   "cell_type": "code",
   "execution_count": null,
   "metadata": {},
   "outputs": [],
   "source": []
  },
  {
   "cell_type": "code",
   "execution_count": 49,
   "metadata": {
    "ExecuteTime": {
     "end_time": "2019-10-30T14:33:11.849156Z",
     "start_time": "2019-10-30T14:31:22.740125Z"
    }
   },
   "outputs": [
    {
     "data": {
      "application/vnd.jupyter.widget-view+json": {
       "model_id": "544d10c3eb2f4ae2a47fd5ad3648baca",
       "version_major": 2,
       "version_minor": 0
      },
      "text/plain": [
       "HBox(children=(IntProgress(value=0, max=28), HTML(value='')))"
      ]
     },
     "metadata": {},
     "output_type": "display_data"
    }
   ],
   "source": [
    "df['song'] = df.original.astype(str)\n",
    "\n",
    "dists = []\n",
    "\n",
    "for [method, song], group in tqdm(df.groupby(['method', 'song'])):\n",
    "    bars = group.bars.mean()\n",
    "    for first, second in zip(group.improvised.values[:-1], group.improvised.values[1:]):\n",
    "        left  = tuple(tokenize(t) for t in first)\n",
    "        right = tuple(tokenize(t) for t in second)\n",
    "        dists.append([method, ld(left, right) / bars])"
   ]
  },
  {
   "cell_type": "code",
   "execution_count": 50,
   "metadata": {
    "ExecuteTime": {
     "end_time": "2019-10-30T14:33:17.653009Z",
     "start_time": "2019-10-30T14:33:17.538025Z"
    }
   },
   "outputs": [],
   "source": [
    "df['bars']      = df.pianorolls.apply(lambda x: x.shape[1] / 16)\n",
    "df['hamming']   = df.pianorolls.apply(lambda x: np.sum(np.abs(x[0] - x[1])))\n",
    "df['euclidean'] = df.pianorolls.apply(lambda x: np.linalg.norm(x[0] - x[1], ord='fro'))\n",
    "\n",
    "df['hamming_normalized'] = df.hamming / df.bars\n",
    "df['mongeau_sankoff_normalized'] = df.mongeau_sankoff / df.bars"
   ]
  },
  {
   "cell_type": "code",
   "execution_count": 51,
   "metadata": {
    "ExecuteTime": {
     "end_time": "2019-10-30T14:33:18.215309Z",
     "start_time": "2019-10-30T14:33:18.167492Z"
    },
    "scrolled": false
   },
   "outputs": [
    {
     "data": {
      "text/html": [
       "<div>\n",
       "<style scoped>\n",
       "    .dataframe tbody tr th:only-of-type {\n",
       "        vertical-align: middle;\n",
       "    }\n",
       "\n",
       "    .dataframe tbody tr th {\n",
       "        vertical-align: top;\n",
       "    }\n",
       "\n",
       "    .dataframe thead th {\n",
       "        text-align: right;\n",
       "    }\n",
       "</style>\n",
       "<table border=\"1\" class=\"dataframe\">\n",
       "  <thead>\n",
       "    <tr style=\"text-align: right;\">\n",
       "      <th></th>\n",
       "      <th>hammingQ10</th>\n",
       "      <th>hamming</th>\n",
       "      <th>hammingQ90</th>\n",
       "      <th>mongeau_sankoff_Q10</th>\n",
       "      <th>mongeau_sankoff</th>\n",
       "      <th>mongeau_sankoff_Q90</th>\n",
       "      <th>euclidean</th>\n",
       "      <th>ms_inter_Q10</th>\n",
       "      <th>ms_inter</th>\n",
       "      <th>ms_inter_Q90</th>\n",
       "    </tr>\n",
       "  </thead>\n",
       "  <tbody>\n",
       "    <tr>\n",
       "      <th>MusicVAE0.1</th>\n",
       "      <td>6.0</td>\n",
       "      <td>11.9</td>\n",
       "      <td>17.9</td>\n",
       "      <td>0.7</td>\n",
       "      <td>2.1</td>\n",
       "      <td>3.4</td>\n",
       "      <td>18.4</td>\n",
       "      <td>0.6</td>\n",
       "      <td>1.9</td>\n",
       "      <td>3.1</td>\n",
       "    </tr>\n",
       "    <tr>\n",
       "      <th>MusicVAE0.3</th>\n",
       "      <td>12.6</td>\n",
       "      <td>17.4</td>\n",
       "      <td>23.2</td>\n",
       "      <td>1.6</td>\n",
       "      <td>2.8</td>\n",
       "      <td>3.9</td>\n",
       "      <td>22.8</td>\n",
       "      <td>1.7</td>\n",
       "      <td>2.9</td>\n",
       "      <td>4.0</td>\n",
       "    </tr>\n",
       "    <tr>\n",
       "      <th>MusicVAE0.6</th>\n",
       "      <td>17.3</td>\n",
       "      <td>22.4</td>\n",
       "      <td>27.5</td>\n",
       "      <td>1.8</td>\n",
       "      <td>3.2</td>\n",
       "      <td>4.5</td>\n",
       "      <td>26.1</td>\n",
       "      <td>2.0</td>\n",
       "      <td>3.5</td>\n",
       "      <td>4.9</td>\n",
       "    </tr>\n",
       "    <tr>\n",
       "      <th>GAN</th>\n",
       "      <td>1.3</td>\n",
       "      <td>7.7</td>\n",
       "      <td>16.5</td>\n",
       "      <td>1.0</td>\n",
       "      <td>2.5</td>\n",
       "      <td>3.9</td>\n",
       "      <td>13.5</td>\n",
       "      <td>1.1</td>\n",
       "      <td>2.2</td>\n",
       "      <td>3.3</td>\n",
       "    </tr>\n",
       "  </tbody>\n",
       "</table>\n",
       "</div>"
      ],
      "text/plain": [
       "             hammingQ10  hamming  hammingQ90  mongeau_sankoff_Q10  \\\n",
       "MusicVAE0.1         6.0     11.9        17.9                  0.7   \n",
       "MusicVAE0.3        12.6     17.4        23.2                  1.6   \n",
       "MusicVAE0.6        17.3     22.4        27.5                  1.8   \n",
       "GAN                 1.3      7.7        16.5                  1.0   \n",
       "\n",
       "             mongeau_sankoff  mongeau_sankoff_Q90  euclidean  ms_inter_Q10  \\\n",
       "MusicVAE0.1              2.1                  3.4       18.4           0.6   \n",
       "MusicVAE0.3              2.8                  3.9       22.8           1.7   \n",
       "MusicVAE0.6              3.2                  4.5       26.1           2.0   \n",
       "GAN                      2.5                  3.9       13.5           1.1   \n",
       "\n",
       "             ms_inter  ms_inter_Q90  \n",
       "MusicVAE0.1       1.9           3.1  \n",
       "MusicVAE0.3       2.9           4.0  \n",
       "MusicVAE0.6       3.5           4.9  \n",
       "GAN               2.2           3.3  "
      ]
     },
     "execution_count": 51,
     "metadata": {},
     "output_type": "execute_result"
    }
   ],
   "source": [
    "results = pd.DataFrame(index=['MusicVAE0.1', 'MusicVAE0.3', 'MusicVAE0.6', 'GAN'])\n",
    "\n",
    "results['hammingQ10'] = df.groupby('method').hamming_normalized.quantile(0.1)\n",
    "results['hamming'] = df.groupby('method').hamming_normalized.mean()\n",
    "results['hammingQ90'] = df.groupby('method').hamming_normalized.quantile(0.9)\n",
    "results['mongeau_sankoff_Q10'] = df.groupby('method').mongeau_sankoff_normalized.quantile(0.10)\n",
    "results['mongeau_sankoff'] = df.groupby('method').mongeau_sankoff_normalized.mean()\n",
    "results['mongeau_sankoff_Q90'] = df.groupby('method').mongeau_sankoff_normalized.quantile(0.90)\n",
    "results['euclidean'] = df.groupby('method').euclidean.mean()\n",
    "\n",
    "gpy = pd.DataFrame(dists, columns=['method', 'ms']).groupby('method')\n",
    "results['ms_inter_Q10'] = gpy.quantile(0.1)\n",
    "results['ms_inter'] = gpy.mean()\n",
    "results['ms_inter_Q90'] = gpy.quantile(0.9)\n",
    "\n",
    "pd.options.display.float_format = '{:.1f}'.format\n",
    "results"
   ]
  },
  {
   "cell_type": "markdown",
   "metadata": {},
   "source": [
    "So the MS distance between original and improvisations is about the same as the one between different improvisations of the same song."
   ]
  },
  {
   "cell_type": "markdown",
   "metadata": {
    "ExecuteTime": {
     "end_time": "2019-10-26T17:15:30.737495Z",
     "start_time": "2019-10-26T17:15:30.734341Z"
    }
   },
   "source": [
    "# Chord - Melody Interplay\n",
    "\n",
    "Harmony classification according to this table:\n",
    "![](harmony_table.png)"
   ]
  },
  {
   "cell_type": "code",
   "execution_count": 9,
   "metadata": {
    "ExecuteTime": {
     "end_time": "2019-10-26T17:15:40.788871Z",
     "start_time": "2019-10-26T17:15:40.783210Z"
    }
   },
   "outputs": [],
   "source": [
    "W = 'weak'; S = 'strong'; J = 'jazz'; U = 'unacceptable'\n",
    "\n",
    "harmony_type = {\n",
    "    #        C,Db, D,Eb, E, F,Gb, G,Ab, A,Bb, B\n",
    "    '':     [W, U, J, U, S, U, J, W, U, J, U, S],\n",
    "    'maj7': [W, U, J, U, S, U, J, W, U, J, U, S],\n",
    "    '7':    [W, J, J, J, S, U, J, W, J, J, S, U],\n",
    "    'm':    [W, U, J, S, U, J, U, W, U, J, S, U],\n",
    "    'm7':   [W, U, J, S, U, J, U, W, U, J, S, U],\n",
    "    'ø':    [W, U, J, S, U, J, S, U, J, U, S, U],\n",
    "    'o':    [W, U, J, S, U, J, S, U, J, S, U, J],\n",
    "    'o7':   [W, U, J, S, U, J, S, U, J, S, U, J],\n",
    "    '+':    [W, J, J, J, S, U, J, U, S, J, S, U],\n",
    "}"
   ]
  },
  {
   "cell_type": "code",
   "execution_count": 12,
   "metadata": {
    "ExecuteTime": {
     "end_time": "2019-10-26T17:16:54.855901Z",
     "start_time": "2019-10-26T17:16:52.656376Z"
    }
   },
   "outputs": [],
   "source": [
    "from itertools import product\n",
    "\n",
    "def extract_pairings(row, melodyelement='improvised'):\n",
    "    chord = row.chords\n",
    "    melody = row[melodyelement]\n",
    "    \n",
    "    pairings = []\n",
    "    for c, m in product(chord, melody):\n",
    "        if(c['start']+c['duration'] > m['start'] and m['start']+m['duration'] > c['start']):\n",
    "            newpair = {'method': row.method}\n",
    "            for k in c:\n",
    "                newpair['chord_'+k] = c[k]\n",
    "            for k in m:\n",
    "                newpair['mel_'+k] = m[k]\n",
    "            pairings.append(newpair)\n",
    "    return pairings\n",
    "    \n",
    "pairings          = pd.DataFrame(list(np.concatenate(df.apply(extract_pairings, axis=1))))\n",
    "original_pairings = pd.DataFrame(list(np.concatenate(\n",
    "    df.apply(lambda x: extract_pairings(x, 'original'), axis=1))))\n",
    "\n",
    "original_pairings['method'] = 'Original'\n",
    "pairings = pd.concat([pairings, original_pairings], axis=0, sort=True)"
   ]
  },
  {
   "cell_type": "code",
   "execution_count": 18,
   "metadata": {
    "ExecuteTime": {
     "end_time": "2019-10-26T17:17:39.167232Z",
     "start_time": "2019-10-26T17:17:36.066981Z"
    }
   },
   "outputs": [],
   "source": [
    "def get_harmony_type(row):\n",
    "    harmonies = harmony_type[row.chord_mode]\n",
    "    return harmonies[(row.mel_note - row.chord_base + 12) % 12]\n",
    "\n",
    "pairings['harmony_type'] = pairings.apply(get_harmony_type, axis=1)\n",
    "tpm = pairings.groupby('method').harmony_type.value_counts(normalize=True).unstack()"
   ]
  },
  {
   "cell_type": "code",
   "execution_count": 25,
   "metadata": {
    "ExecuteTime": {
     "end_time": "2019-10-26T17:19:07.009968Z",
     "start_time": "2019-10-26T17:19:07.007185Z"
    }
   },
   "outputs": [],
   "source": [
    "tpm = tpm.loc[['Original', 'MusicVAE0.1', 'MusicVAE0.3', 'MusicVAE0.6', 'GAN']]"
   ]
  },
  {
   "cell_type": "code",
   "execution_count": 26,
   "metadata": {
    "ExecuteTime": {
     "end_time": "2019-10-26T17:19:07.671393Z",
     "start_time": "2019-10-26T17:19:07.666170Z"
    }
   },
   "outputs": [
    {
     "data": {
      "text/html": [
       "<div>\n",
       "<style scoped>\n",
       "    .dataframe tbody tr th:only-of-type {\n",
       "        vertical-align: middle;\n",
       "    }\n",
       "\n",
       "    .dataframe tbody tr th {\n",
       "        vertical-align: top;\n",
       "    }\n",
       "\n",
       "    .dataframe thead th {\n",
       "        text-align: right;\n",
       "    }\n",
       "</style>\n",
       "<table border=\"1\" class=\"dataframe\">\n",
       "  <thead>\n",
       "    <tr style=\"text-align: right;\">\n",
       "      <th>harmony_type</th>\n",
       "      <th>jazz</th>\n",
       "      <th>strong</th>\n",
       "      <th>unacceptable</th>\n",
       "      <th>weak</th>\n",
       "    </tr>\n",
       "    <tr>\n",
       "      <th>method</th>\n",
       "      <th></th>\n",
       "      <th></th>\n",
       "      <th></th>\n",
       "      <th></th>\n",
       "    </tr>\n",
       "  </thead>\n",
       "  <tbody>\n",
       "    <tr>\n",
       "      <th>Original</th>\n",
       "      <td>0.21</td>\n",
       "      <td>0.35</td>\n",
       "      <td>0.05</td>\n",
       "      <td>0.39</td>\n",
       "    </tr>\n",
       "    <tr>\n",
       "      <th>MusicVAE0.1</th>\n",
       "      <td>0.20</td>\n",
       "      <td>0.33</td>\n",
       "      <td>0.05</td>\n",
       "      <td>0.41</td>\n",
       "    </tr>\n",
       "    <tr>\n",
       "      <th>MusicVAE0.3</th>\n",
       "      <td>0.18</td>\n",
       "      <td>0.33</td>\n",
       "      <td>0.07</td>\n",
       "      <td>0.42</td>\n",
       "    </tr>\n",
       "    <tr>\n",
       "      <th>MusicVAE0.6</th>\n",
       "      <td>0.19</td>\n",
       "      <td>0.30</td>\n",
       "      <td>0.09</td>\n",
       "      <td>0.42</td>\n",
       "    </tr>\n",
       "    <tr>\n",
       "      <th>GAN</th>\n",
       "      <td>0.26</td>\n",
       "      <td>0.29</td>\n",
       "      <td>0.11</td>\n",
       "      <td>0.34</td>\n",
       "    </tr>\n",
       "  </tbody>\n",
       "</table>\n",
       "</div>"
      ],
      "text/plain": [
       "harmony_type  jazz  strong  unacceptable  weak\n",
       "method                                        \n",
       "Original      0.21    0.35          0.05  0.39\n",
       "MusicVAE0.1   0.20    0.33          0.05  0.41\n",
       "MusicVAE0.3   0.18    0.33          0.07  0.42\n",
       "MusicVAE0.6   0.19    0.30          0.09  0.42\n",
       "GAN           0.26    0.29          0.11  0.34"
      ]
     },
     "execution_count": 26,
     "metadata": {},
     "output_type": "execute_result"
    }
   ],
   "source": [
    "tpm"
   ]
  },
  {
   "cell_type": "code",
   "execution_count": 29,
   "metadata": {
    "ExecuteTime": {
     "end_time": "2019-10-26T17:19:37.814953Z",
     "start_time": "2019-10-26T17:19:37.679483Z"
    }
   },
   "outputs": [
    {
     "data": {
      "image/png": "[encoded data removed]",
      "text/plain": [
       "<Figure size 648x216 with 1 Axes>"
      ]
     },
     "metadata": {
      "needs_background": "light"
     },
     "output_type": "display_data"
    }
   ],
   "source": [
    "fig = plt.figure(figsize=(9, 3), )\n",
    "ax = plt.axes(frameon=False)\n",
    "plt.style.use('tableau-colorblind10')\n",
    "\n",
    "plt.barh(tpm.index, tpm['strong'], color='C0', label='Strong Harmony'); cum = tpm['strong'].copy()\n",
    "plt.barh(tpm.index, tpm['jazz'], color='C4', left=cum, label='Jazz Harmony'); cum += tpm['jazz']\n",
    "plt.barh(tpm.index, tpm['weak'], color='C1', left=cum, label='Weak Harmony'); cum += tpm['weak']\n",
    "plt.barh(tpm.index, tpm['unacceptable'], color='C5', left=cum, label='Unacceptable Harmony')\n",
    "\n",
    "plt.ylim([4.5, -.5])\n",
    "plt.xlim([-.02, 1.55])\n",
    "plt.xticks(np.arange(0, 1.1, 0.2))\n",
    "ax.tick_params(axis='y', which=u'both',length=0)\n",
    "\n",
    "plt.legend(loc='right')\n",
    "plt.tight_layout()\n",
    "plt.savefig('/home/konrad/thesis/tex/figures/analysis/improvisation-harmony.pdf')"
   ]
  },
  {
   "cell_type": "code",
   "execution_count": null,
   "metadata": {},
   "outputs": [],
   "source": []
  }
 ],
 "metadata": {
  "kernelspec": {
   "display_name": "Python 3",
   "language": "python",
   "name": "python3"
  },
  "language_info": {
   "codemirror_mode": {
    "name": "ipython",
    "version": 3
   },
   "file_extension": ".py",
   "mimetype": "text/x-python",
   "name": "python",
   "nbconvert_exporter": "python",
   "pygments_lexer": "ipython3",
   "version": "3.7.4"
  }
 },
 "nbformat": 4,
 "nbformat_minor": 2
}
