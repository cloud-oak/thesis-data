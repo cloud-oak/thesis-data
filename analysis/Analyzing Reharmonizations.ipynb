{
 "cells": [
  {
   "cell_type": "code",
   "execution_count": 1,
   "metadata": {
    "ExecuteTime": {
     "end_time": "2019-10-26T15:33:12.609649Z",
     "start_time": "2019-10-26T15:33:12.296260Z"
    }
   },
   "outputs": [],
   "source": [
    "import pandas as pd\n",
    "import seaborn as sns\n",
    "import matplotlib.pyplot as plt"
   ]
  },
  {
   "cell_type": "code",
   "execution_count": 2,
   "metadata": {
    "ExecuteTime": {
     "end_time": "2019-10-26T15:33:13.004019Z",
     "start_time": "2019-10-26T15:33:12.610755Z"
    }
   },
   "outputs": [],
   "source": [
    "df = pd.read_json('reharmonization_runs.json', orient='records')"
   ]
  },
  {
   "cell_type": "code",
   "execution_count": 3,
   "metadata": {
    "ExecuteTime": {
     "end_time": "2019-10-26T15:33:13.135339Z",
     "start_time": "2019-10-26T15:33:13.005700Z"
    }
   },
   "outputs": [
    {
     "data": {
      "text/plain": [
       "<matplotlib.collections.PathCollection at 0x7f8be88a9a50>"
      ]
     },
     "execution_count": 3,
     "metadata": {},
     "output_type": "execute_result"
    },
    {
     "data": {
      "image/png": "[encoded data removed]",
      "text/plain": [
       "<Figure size 432x288 with 1 Axes>"
      ]
     },
     "metadata": {
      "needs_background": "light"
     },
     "output_type": "display_data"
    }
   ],
   "source": [
    "plt.scatter(y='method', x='time', data=df)"
   ]
  },
  {
   "cell_type": "code",
   "execution_count": 4,
   "metadata": {
    "ExecuteTime": {
     "end_time": "2019-10-26T15:33:13.138771Z",
     "start_time": "2019-10-26T15:33:13.136548Z"
    }
   },
   "outputs": [],
   "source": [
    "results = pd.DataFrame(\n",
    "    index=['Grammar', 'Chord2Vec', 'Markov', 'Markov+Grammar', 'Hidden Markov', 'Hidden Markov+Grammar']\n",
    ")"
   ]
  },
  {
   "cell_type": "code",
   "execution_count": 44,
   "metadata": {
    "ExecuteTime": {
     "end_time": "2019-10-26T15:56:51.418295Z",
     "start_time": "2019-10-26T15:56:51.405222Z"
    }
   },
   "outputs": [],
   "source": [
    "roots = ['C', 'Db', 'D', 'Eb', 'E', 'F', 'Gb', 'G', 'Ab', 'A', 'Bb', 'B']\n",
    "def make_chordname(frame):\n",
    "    frame['chordname'] = frame['base'].apply(roots.__getitem__).str.cat(frame['mode'])\n",
    "    return frame"
   ]
  },
  {
   "cell_type": "code",
   "execution_count": 45,
   "metadata": {
    "ExecuteTime": {
     "end_time": "2019-10-26T15:57:09.088763Z",
     "start_time": "2019-10-26T15:56:54.043608Z"
    }
   },
   "outputs": [],
   "source": [
    "def expand_row(row):\n",
    "    originals    = make_chordname(pd.DataFrame(row.original)).rename(columns=lambda x: 'or_'+x)\n",
    "    reharmonized = make_chordname(pd.DataFrame(row.reharmonized)).rename(columns=lambda x: 're_'+x)\n",
    "    rowframe = pd.concat([originals, reharmonized], axis=1)\n",
    "    rowframe['method'] = row.method\n",
    "    rowframe['song'] = row.song\n",
    "    return rowframe\n",
    "\n",
    "gr = pd.concat(list(df.apply(expand_row, axis=1)), axis=0)"
   ]
  },
  {
   "cell_type": "code",
   "execution_count": 52,
   "metadata": {
    "ExecuteTime": {
     "end_time": "2019-10-26T15:57:49.053265Z",
     "start_time": "2019-10-26T15:57:48.935768Z"
    }
   },
   "outputs": [
    {
     "data": {
      "text/html": [
       "<div>\n",
       "<style scoped>\n",
       "    .dataframe tbody tr th:only-of-type {\n",
       "        vertical-align: middle;\n",
       "    }\n",
       "\n",
       "    .dataframe tbody tr th {\n",
       "        vertical-align: top;\n",
       "    }\n",
       "\n",
       "    .dataframe thead th {\n",
       "        text-align: right;\n",
       "    }\n",
       "</style>\n",
       "<table border=\"1\" class=\"dataframe\">\n",
       "  <thead>\n",
       "    <tr style=\"text-align: right;\">\n",
       "      <th></th>\n",
       "      <th>Average Changed</th>\n",
       "      <th>Changed at all</th>\n",
       "      <th>weak</th>\n",
       "      <th>strong</th>\n",
       "      <th>jazz</th>\n",
       "      <th>unacceptable</th>\n",
       "      <th>Average Alternatives</th>\n",
       "    </tr>\n",
       "  </thead>\n",
       "  <tbody>\n",
       "    <tr>\n",
       "      <th>Grammar</th>\n",
       "      <td>0.44</td>\n",
       "      <td>0.87</td>\n",
       "      <td>0.18</td>\n",
       "      <td>0.27</td>\n",
       "      <td>0.40</td>\n",
       "      <td>0.15</td>\n",
       "      <td>1.21</td>\n",
       "    </tr>\n",
       "    <tr>\n",
       "      <th>Chord2Vec</th>\n",
       "      <td>0.39</td>\n",
       "      <td>0.87</td>\n",
       "      <td>0.23</td>\n",
       "      <td>0.30</td>\n",
       "      <td>0.37</td>\n",
       "      <td>0.10</td>\n",
       "      <td>1.13</td>\n",
       "    </tr>\n",
       "    <tr>\n",
       "      <th>Markov</th>\n",
       "      <td>0.73</td>\n",
       "      <td>0.99</td>\n",
       "      <td>0.24</td>\n",
       "      <td>0.21</td>\n",
       "      <td>0.35</td>\n",
       "      <td>0.19</td>\n",
       "      <td>11.34</td>\n",
       "    </tr>\n",
       "    <tr>\n",
       "      <th>Markov+Grammar</th>\n",
       "      <td>0.20</td>\n",
       "      <td>0.61</td>\n",
       "      <td>0.26</td>\n",
       "      <td>0.33</td>\n",
       "      <td>0.30</td>\n",
       "      <td>0.11</td>\n",
       "      <td>0.65</td>\n",
       "    </tr>\n",
       "    <tr>\n",
       "      <th>Hidden Markov</th>\n",
       "      <td>0.64</td>\n",
       "      <td>0.97</td>\n",
       "      <td>0.39</td>\n",
       "      <td>0.23</td>\n",
       "      <td>0.31</td>\n",
       "      <td>0.07</td>\n",
       "      <td>6.68</td>\n",
       "    </tr>\n",
       "    <tr>\n",
       "      <th>Hidden Markov+Grammar</th>\n",
       "      <td>0.18</td>\n",
       "      <td>0.44</td>\n",
       "      <td>0.32</td>\n",
       "      <td>0.34</td>\n",
       "      <td>0.27</td>\n",
       "      <td>0.06</td>\n",
       "      <td>0.45</td>\n",
       "    </tr>\n",
       "  </tbody>\n",
       "</table>\n",
       "</div>"
      ],
      "text/plain": [
       "                       Average Changed  Changed at all  weak  strong  jazz  \\\n",
       "Grammar                           0.44            0.87  0.18    0.27  0.40   \n",
       "Chord2Vec                         0.39            0.87  0.23    0.30  0.37   \n",
       "Markov                            0.73            0.99  0.24    0.21  0.35   \n",
       "Markov+Grammar                    0.20            0.61  0.26    0.33  0.30   \n",
       "Hidden Markov                     0.64            0.97  0.39    0.23  0.31   \n",
       "Hidden Markov+Grammar             0.18            0.44  0.32    0.34  0.27   \n",
       "\n",
       "                       unacceptable  Average Alternatives  \n",
       "Grammar                        0.15                  1.21  \n",
       "Chord2Vec                      0.10                  1.13  \n",
       "Markov                         0.19                 11.34  \n",
       "Markov+Grammar                 0.11                  0.65  \n",
       "Hidden Markov                  0.07                  6.68  \n",
       "Hidden Markov+Grammar          0.06                  0.45  "
      ]
     },
     "execution_count": 52,
     "metadata": {},
     "output_type": "execute_result"
    }
   ],
   "source": [
    "results['Average Changed'] = gr.groupby('method').re_reharmonized.mean()\n",
    "results['Changed at all']  = gr.groupby(['method', 'song', 'or_start']) \\\n",
    "                                .re_reharmonized.any().groupby('method').mean()\n",
    "results['Average Alternatives']  = gr.groupby(['method', 'song', 'or_start']).re_chordname.nunique() \\\n",
    "                                     .groupby('method').mean() - 1\n",
    "\n",
    "results"
   ]
  },
  {
   "cell_type": "markdown",
   "metadata": {},
   "source": [
    "# Chord - Melody Interplay\n",
    "\n",
    "Harmony classification according to this table:\n",
    "![](http://www.thejazzpianosite.com/wp-content/uploads/2016/12/How-to-Reharmonize-a-Song.png)"
   ]
  },
  {
   "cell_type": "code",
   "execution_count": 19,
   "metadata": {
    "ExecuteTime": {
     "end_time": "2019-10-26T15:52:16.317580Z",
     "start_time": "2019-10-26T15:52:16.304944Z"
    }
   },
   "outputs": [],
   "source": [
    "W = 'weak'; S = 'strong'; J = 'jazz'; U = 'unacceptable'\n",
    "\n",
    "harmony_type = {\n",
    "    #        C,Db, D,Eb, E, F,Gb, G,Ab, A,Bb, B\n",
    "    '':     [W, U, J, U, S, U, J, W, U, J, U, S],\n",
    "    'maj7': [W, U, J, U, S, U, J, W, U, J, U, S],\n",
    "    '7':    [W, J, J, J, S, U, J, W, J, J, S, U],\n",
    "    'm':    [W, U, J, S, U, J, U, W, U, J, S, U],\n",
    "    'm7':   [W, U, J, S, U, J, U, W, U, J, S, U],\n",
    "    'ø':    [W, U, J, S, U, J, S, U, J, U, S, U],\n",
    "    'o':    [W, U, J, S, U, J, S, U, J, S, U, J],\n",
    "    'o7':   [W, U, J, S, U, J, S, U, J, S, U, J],\n",
    "    '+':    [W, J, J, J, S, U, J, U, S, J, S, U],\n",
    "}"
   ]
  },
  {
   "cell_type": "code",
   "execution_count": 20,
   "metadata": {
    "ExecuteTime": {
     "end_time": "2019-10-26T15:52:23.236454Z",
     "start_time": "2019-10-26T15:52:16.533011Z"
    }
   },
   "outputs": [],
   "source": [
    "from itertools import product\n",
    "\n",
    "def extract_pairings(row):\n",
    "    reharmonized = row.reharmonized\n",
    "    melody = row.melody\n",
    "    \n",
    "    pairings = []\n",
    "    for r, m in product(reharmonized, melody):\n",
    "        if(r['start']+r['duration'] > m['start'] and m['start']+m['duration'] > r['start']):\n",
    "            newpair = {'method': row.method, 'song': row.song}\n",
    "            for k in r:\n",
    "                newpair['chord_'+k] = r[k]\n",
    "            for k in m:\n",
    "                newpair['mel_'+k] = m[k]\n",
    "            pairings.append(newpair)\n",
    "    return pairings\n",
    "    \n",
    "pairings = pd.DataFrame(list(np.concatenate(df.apply(extract_pairings, axis=1))))"
   ]
  },
  {
   "cell_type": "code",
   "execution_count": 21,
   "metadata": {
    "ExecuteTime": {
     "end_time": "2019-10-26T15:52:29.385971Z",
     "start_time": "2019-10-26T15:52:23.237617Z"
    }
   },
   "outputs": [],
   "source": [
    "def get_harmony_type(row):\n",
    "    harmonies = harmony_type[row.chord_mode]\n",
    "    return harmonies[(row.mel_note - row.chord_base + 12) % 12]\n",
    "\n",
    "pairings['harmony_type'] = pairings.apply(get_harmony_type, axis=1)"
   ]
  },
  {
   "cell_type": "code",
   "execution_count": 14,
   "metadata": {
    "ExecuteTime": {
     "end_time": "2019-10-26T15:34:22.501786Z",
     "start_time": "2019-10-26T15:34:22.460384Z"
    }
   },
   "outputs": [],
   "source": [
    "types_per_method = pairings[pairings.chord_reharmonized].groupby('method').harmony_type.value_counts(normalize=True)\n",
    "\n",
    "for t in [W, S, J, U]:\n",
    "    results[t] = types_per_method[:, t]"
   ]
  },
  {
   "cell_type": "code",
   "execution_count": 15,
   "metadata": {
    "ExecuteTime": {
     "end_time": "2019-10-26T15:34:23.961590Z",
     "start_time": "2019-10-26T15:34:23.771982Z"
    }
   },
   "outputs": [
    {
     "data": {
      "image/png": "[encoded data removed]",
      "text/plain": [
       "<Figure size 648x216 with 1 Axes>"
      ]
     },
     "metadata": {
      "needs_background": "light"
     },
     "output_type": "display_data"
    }
   ],
   "source": [
    "fig = plt.figure(figsize=(9, 3), )\n",
    "ax = plt.axes(frameon=False)\n",
    "plt.style.use('tableau-colorblind10')\n",
    "\n",
    "plt.barh(results.index, results['strong'], color='C0', label='Strong Harmony'); cum = results['strong'].copy()\n",
    "plt.barh(results.index, results['jazz'], color='C4', left=cum, label='Jazz Harmony'); cum += results['jazz']\n",
    "plt.barh(results.index, results['weak'], color='C1', left=cum, label='Weak Harmony'); cum += results['weak']\n",
    "plt.barh(results.index, results['unacceptable'], color='C5', left=cum, label='Unacceptable Harmony')\n",
    "\n",
    "plt.ylim([5.5, -.5])\n",
    "plt.xlim([-.02, 1.55])\n",
    "plt.xticks(np.arange(0, 1.1, 0.2))\n",
    "ax.tick_params(axis='y', which=u'both',length=0)\n",
    "\n",
    "plt.legend(loc='right')\n",
    "plt.tight_layout()\n",
    "plt.savefig('/home/konrad/thesis/tex/figures/analysis/reharmonization-harmony.pdf')"
   ]
  }
 ],
 "metadata": {
  "kernelspec": {
   "display_name": "Python 3",
   "language": "python",
   "name": "python3"
  },
  "language_info": {
   "codemirror_mode": {
    "name": "ipython",
    "version": 3
   },
   "file_extension": ".py",
   "mimetype": "text/x-python",
   "name": "python",
   "nbconvert_exporter": "python",
   "pygments_lexer": "ipython3",
   "version": "3.7.4"
  }
 },
 "nbformat": 4,
 "nbformat_minor": 2
}
