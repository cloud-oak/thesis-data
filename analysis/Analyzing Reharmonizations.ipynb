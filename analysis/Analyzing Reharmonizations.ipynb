{
 "cells": [
  {
   "cell_type": "code",
   "execution_count": 1,
   "metadata": {
    "ExecuteTime": {
     "end_time": "2019-10-26T16:59:27.476684Z",
     "start_time": "2019-10-26T16:59:27.333769Z"
    }
   },
   "outputs": [],
   "source": [
    "import pandas as pd\n",
    "import matplotlib.pyplot as plt"
   ]
  },
  {
   "cell_type": "code",
   "execution_count": 2,
   "metadata": {
    "ExecuteTime": {
     "end_time": "2019-10-26T16:59:27.841794Z",
     "start_time": "2019-10-26T16:59:27.477665Z"
    }
   },
   "outputs": [],
   "source": [
    "df = pd.read_json('reharmonization_runs.json', orient='records')"
   ]
  },
  {
   "cell_type": "code",
   "execution_count": 3,
   "metadata": {
    "ExecuteTime": {
     "end_time": "2019-10-26T16:59:27.848895Z",
     "start_time": "2019-10-26T16:59:27.843105Z"
    }
   },
   "outputs": [
    {
     "data": {
      "text/plain": [
       "method\n",
       "Chord2Vec                 3\n",
       "Grammar                   3\n",
       "Hidden Markov            16\n",
       "Hidden Markov+Grammar    13\n",
       "Markov                    5\n",
       "Markov+Grammar            3\n",
       "Name: time, dtype: int64"
      ]
     },
     "execution_count": 3,
     "metadata": {},
     "output_type": "execute_result"
    }
   ],
   "source": [
    "df.groupby('method').time.median()"
   ]
  },
  {
   "cell_type": "code",
   "execution_count": 4,
   "metadata": {
    "ExecuteTime": {
     "end_time": "2019-10-26T16:59:27.858702Z",
     "start_time": "2019-10-26T16:59:27.850036Z"
    }
   },
   "outputs": [],
   "source": [
    "results = pd.DataFrame(\n",
    "    index=['Grammar', 'Chord2Vec', 'Markov', 'Markov+Grammar', 'Hidden Markov', 'Hidden Markov+Grammar']\n",
    ")"
   ]
  },
  {
   "cell_type": "code",
   "execution_count": 5,
   "metadata": {
    "ExecuteTime": {
     "end_time": "2019-10-26T16:59:27.868861Z",
     "start_time": "2019-10-26T16:59:27.859702Z"
    }
   },
   "outputs": [],
   "source": [
    "roots = ['C', 'Db', 'D', 'Eb', 'E', 'F', 'Gb', 'G', 'Ab', 'A', 'Bb', 'B']\n",
    "def make_chordname(frame):\n",
    "    frame['chordname'] = frame['base'].apply(roots.__getitem__).str.cat(frame['mode'])\n",
    "    return frame"
   ]
  },
  {
   "cell_type": "code",
   "execution_count": 6,
   "metadata": {
    "ExecuteTime": {
     "end_time": "2019-10-26T16:59:41.224046Z",
     "start_time": "2019-10-26T16:59:27.869945Z"
    }
   },
   "outputs": [],
   "source": [
    "def expand_row(row):\n",
    "    originals    = make_chordname(pd.DataFrame(row.original)).rename(columns=lambda x: 'or_'+x)\n",
    "    reharmonized = make_chordname(pd.DataFrame(row.reharmonized)).rename(columns=lambda x: 're_'+x)\n",
    "    rowframe = pd.concat([originals, reharmonized], axis=1)\n",
    "    rowframe['method'] = row.method\n",
    "    rowframe['song'] = row.song\n",
    "    return rowframe\n",
    "\n",
    "gr = pd.concat(list(df.apply(expand_row, axis=1)), axis=0)"
   ]
  },
  {
   "cell_type": "code",
   "execution_count": 7,
   "metadata": {
    "ExecuteTime": {
     "end_time": "2019-10-26T16:59:41.331282Z",
     "start_time": "2019-10-26T16:59:41.225237Z"
    }
   },
   "outputs": [
    {
     "data": {
      "text/html": [
       "<div>\n",
       "<style scoped>\n",
       "    .dataframe tbody tr th:only-of-type {\n",
       "        vertical-align: middle;\n",
       "    }\n",
       "\n",
       "    .dataframe tbody tr th {\n",
       "        vertical-align: top;\n",
       "    }\n",
       "\n",
       "    .dataframe thead th {\n",
       "        text-align: right;\n",
       "    }\n",
       "</style>\n",
       "<table border=\"1\" class=\"dataframe\">\n",
       "  <thead>\n",
       "    <tr style=\"text-align: right;\">\n",
       "      <th></th>\n",
       "      <th>Average Changed</th>\n",
       "      <th>Changed at all</th>\n",
       "      <th>Average Alternatives</th>\n",
       "    </tr>\n",
       "  </thead>\n",
       "  <tbody>\n",
       "    <tr>\n",
       "      <th>Grammar</th>\n",
       "      <td>0.44</td>\n",
       "      <td>0.87</td>\n",
       "      <td>1.21</td>\n",
       "    </tr>\n",
       "    <tr>\n",
       "      <th>Chord2Vec</th>\n",
       "      <td>0.39</td>\n",
       "      <td>0.87</td>\n",
       "      <td>1.13</td>\n",
       "    </tr>\n",
       "    <tr>\n",
       "      <th>Markov</th>\n",
       "      <td>0.73</td>\n",
       "      <td>0.99</td>\n",
       "      <td>11.34</td>\n",
       "    </tr>\n",
       "    <tr>\n",
       "      <th>Markov+Grammar</th>\n",
       "      <td>0.20</td>\n",
       "      <td>0.61</td>\n",
       "      <td>0.65</td>\n",
       "    </tr>\n",
       "    <tr>\n",
       "      <th>Hidden Markov</th>\n",
       "      <td>0.64</td>\n",
       "      <td>0.97</td>\n",
       "      <td>6.68</td>\n",
       "    </tr>\n",
       "    <tr>\n",
       "      <th>Hidden Markov+Grammar</th>\n",
       "      <td>0.18</td>\n",
       "      <td>0.44</td>\n",
       "      <td>0.45</td>\n",
       "    </tr>\n",
       "  </tbody>\n",
       "</table>\n",
       "</div>"
      ],
      "text/plain": [
       "                       Average Changed  Changed at all  Average Alternatives\n",
       "Grammar                           0.44            0.87                  1.21\n",
       "Chord2Vec                         0.39            0.87                  1.13\n",
       "Markov                            0.73            0.99                 11.34\n",
       "Markov+Grammar                    0.20            0.61                  0.65\n",
       "Hidden Markov                     0.64            0.97                  6.68\n",
       "Hidden Markov+Grammar             0.18            0.44                  0.45"
      ]
     },
     "execution_count": 7,
     "metadata": {},
     "output_type": "execute_result"
    }
   ],
   "source": [
    "results['Average Changed'] = gr.groupby('method').re_reharmonized.mean()\n",
    "results['Changed at all']  = gr.groupby(['method', 'song', 'or_start']) \\\n",
    "                                .re_reharmonized.any().groupby('method').mean()\n",
    "results['Average Alternatives']  = gr.groupby(['method', 'song', 'or_start']).re_chordname.nunique() \\\n",
    "                                     .groupby('method').mean() - 1\n",
    "\n",
    "results"
   ]
  },
  {
   "cell_type": "markdown",
   "metadata": {},
   "source": [
    "# Chord - Melody Interplay\n",
    "\n",
    "Harmony classification according to this table:\n",
    "![](harmony_table.png)"
   ]
  },
  {
   "cell_type": "code",
   "execution_count": 8,
   "metadata": {
    "ExecuteTime": {
     "end_time": "2019-10-26T16:59:41.338400Z",
     "start_time": "2019-10-26T16:59:41.332733Z"
    }
   },
   "outputs": [],
   "source": [
    "W = 'weak'; S = 'strong'; J = 'jazz'; U = 'unacceptable'\n",
    "\n",
    "harmony_type = {\n",
    "    #        C,Db, D,Eb, E, F,Gb, G,Ab, A,Bb, B\n",
    "    '':     [W, U, J, U, S, U, J, W, U, J, U, S],\n",
    "    'maj7': [W, U, J, U, S, U, J, W, U, J, U, S],\n",
    "    '7':    [W, J, J, J, S, U, J, W, J, J, S, U],\n",
    "    'm':    [W, U, J, S, U, J, U, W, U, J, S, U],\n",
    "    'm7':   [W, U, J, S, U, J, U, W, U, J, S, U],\n",
    "    'ø':    [W, U, J, S, U, J, S, U, J, U, S, U],\n",
    "    'o':    [W, U, J, S, U, J, S, U, J, S, U, J],\n",
    "    'o7':   [W, U, J, S, U, J, S, U, J, S, U, J],\n",
    "    '+':    [W, J, J, J, S, U, J, U, S, J, S, U],\n",
    "}"
   ]
  },
  {
   "cell_type": "code",
   "execution_count": 23,
   "metadata": {
    "ExecuteTime": {
     "end_time": "2019-10-26T17:07:07.892720Z",
     "start_time": "2019-10-26T17:06:56.255663Z"
    }
   },
   "outputs": [],
   "source": [
    "from itertools import product\n",
    "\n",
    "def extract_pairings(row, chordelement='reharmonized'):\n",
    "    chord = row[chordelement]\n",
    "    melody = row.melody\n",
    "    \n",
    "    pairings = []\n",
    "    for c, m in product(chord, melody):\n",
    "        if(c['start']+c['duration'] > m['start'] and m['start']+m['duration'] > c['start']):\n",
    "            newpair = {'method': row.method, 'song': row.song}\n",
    "            for k in c:\n",
    "                newpair['chord_'+k] = c[k]\n",
    "            for k in m:\n",
    "                newpair['mel_'+k] = m[k]\n",
    "            pairings.append(newpair)\n",
    "    return pairings\n",
    "    \n",
    "pairings          = pd.DataFrame(list(np.concatenate(df.apply(extract_pairings, axis=1))))\n",
    "original_pairings = pd.DataFrame(list(np.concatenate(\n",
    "    df.apply(lambda x: extract_pairings(x, 'original'), axis=1))))\n",
    "\n",
    "original_pairings['method'] = 'Original'\n",
    "pairings = pd.concat([pairings, original_pairings], axis=0, sort=True)"
   ]
  },
  {
   "cell_type": "code",
   "execution_count": 30,
   "metadata": {
    "ExecuteTime": {
     "end_time": "2019-10-26T17:08:16.274627Z",
     "start_time": "2019-10-26T17:07:53.574311Z"
    }
   },
   "outputs": [],
   "source": [
    "def get_harmony_type(row):\n",
    "    harmonies = harmony_type[row.chord_mode]\n",
    "    return harmonies[(row.mel_note - row.chord_base + 12) % 12]\n",
    "\n",
    "pairings['harmony_type'] = pairings.apply(get_harmony_type, axis=1)"
   ]
  },
  {
   "cell_type": "code",
   "execution_count": 72,
   "metadata": {
    "ExecuteTime": {
     "end_time": "2019-10-26T17:18:45.067776Z",
     "start_time": "2019-10-26T17:18:44.917906Z"
    }
   },
   "outputs": [],
   "source": [
    "tpm = pairings[pairings.chord_reharmonized | (pairings.method=='Original')].groupby('method') \\\n",
    "    .harmony_type.value_counts(normalize=True).unstack()\n",
    "tpm = tpm.loc[['Original', 'Grammar', 'Chord2Vec', 'Markov', 'Markov+Grammar', 'Hidden Markov', 'Hidden Markov+Grammar']]"
   ]
  },
  {
   "cell_type": "code",
   "execution_count": 73,
   "metadata": {
    "ExecuteTime": {
     "end_time": "2019-10-26T17:19:36.072758Z",
     "start_time": "2019-10-26T17:19:35.918649Z"
    }
   },
   "outputs": [
    {
     "data": {
      "image/png": "[encoded data removed]",
      "text/plain": [
       "<Figure size 648x216 with 1 Axes>"
      ]
     },
     "metadata": {
      "needs_background": "light"
     },
     "output_type": "display_data"
    }
   ],
   "source": [
    "fig = plt.figure(figsize=(9, 3), )\n",
    "ax = plt.axes(frameon=False)\n",
    "plt.style.use('tableau-colorblind10')\n",
    "\n",
    "plt.barh(tpm.index, tpm['strong'], color='C0', label='Strong Harmony'); cum = tpm['strong'].copy()\n",
    "plt.barh(tpm.index, tpm['jazz'], color='C4', left=cum, label='Jazz Harmony'); cum += tpm['jazz']\n",
    "plt.barh(tpm.index, tpm['weak'], color='C1', left=cum, label='Weak Harmony'); cum += tpm['weak']\n",
    "plt.barh(tpm.index, tpm['unacceptable'], color='C5', left=cum, label='Unacceptable Harmony')\n",
    "\n",
    "plt.ylim([6.5, -.5])\n",
    "plt.xlim([-.02, 1.55])\n",
    "plt.xticks(np.arange(0, 1.1, 0.2))\n",
    "ax.tick_params(axis='y', which=u'both',length=0)\n",
    "\n",
    "plt.legend(loc='right')\n",
    "plt.tight_layout()\n",
    "plt.savefig('/home/konrad/thesis/tex/figures/analysis/reharmonization-harmony.pdf')"
   ]
  },
  {
   "cell_type": "code",
   "execution_count": null,
   "metadata": {},
   "outputs": [],
   "source": []
  }
 ],
 "metadata": {
  "kernelspec": {
   "display_name": "Python 3",
   "language": "python",
   "name": "python3"
  },
  "language_info": {
   "codemirror_mode": {
    "name": "ipython",
    "version": 3
   },
   "file_extension": ".py",
   "mimetype": "text/x-python",
   "name": "python",
   "nbconvert_exporter": "python",
   "pygments_lexer": "ipython3",
   "version": "3.7.4"
  }
 },
 "nbformat": 4,
 "nbformat_minor": 2
}
